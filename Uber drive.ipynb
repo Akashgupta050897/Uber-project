{
 "cells": [
  {
   "cell_type": "markdown",
   "metadata": {
    "id": "WiVXvuYj198C"
   },
   "source": [
    "# Load the necessary libraries. Import and load the dataset."
   ]
  },
  {
   "cell_type": "code",
   "execution_count": 1,
   "metadata": {
    "id": "1t_S2Qw_198D"
   },
   "outputs": [],
   "source": [
    "import numpy as np\n",
    "import pandas as pd\n",
    "import matplotlib.pyplot as plt\n",
    "%matplotlib inline\n",
    "import seaborn as sns "
   ]
  },
  {
   "cell_type": "code",
   "execution_count": 4,
   "metadata": {
    "id": "rOMfio427XfR"
   },
   "outputs": [],
   "source": [
    "# Get the Data\n",
    "uber=pd.read_csv('uberdrives.csv')"
   ]
  },
  {
   "cell_type": "markdown",
   "metadata": {
    "id": "DZktgL3E198I"
   },
   "source": [
    "## Q1. Show the last 10 records of the dataset."
   ]
  },
  {
   "cell_type": "code",
   "execution_count": 1,
   "metadata": {
    "id": "pk7z2uii198I"
   },
   "outputs": [
    {
     "ename": "NameError",
     "evalue": "name 'uber' is not defined",
     "output_type": "error",
     "traceback": [
      "\u001b[1;31m---------------------------------------------------------------------------\u001b[0m",
      "\u001b[1;31mNameError\u001b[0m                                 Traceback (most recent call last)",
      "\u001b[1;32m<ipython-input-1-da6bcad7c732>\u001b[0m in \u001b[0;36m<module>\u001b[1;34m\u001b[0m\n\u001b[1;32m----> 1\u001b[1;33m \u001b[0muber\u001b[0m\u001b[1;33m.\u001b[0m\u001b[0mhead\u001b[0m\u001b[1;33m(\u001b[0m\u001b[1;36m10\u001b[0m\u001b[1;33m)\u001b[0m\u001b[1;33m\u001b[0m\u001b[1;33m\u001b[0m\u001b[0m\n\u001b[0m",
      "\u001b[1;31mNameError\u001b[0m: name 'uber' is not defined"
     ]
    }
   ],
   "source": [
    "uber.head(10)"
   ]
  },
  {
   "cell_type": "markdown",
   "metadata": {
    "id": "ipD0ZQ9O198O"
   },
   "source": [
    "## Q2. Show the first 10 records of the dataset."
   ]
  },
  {
   "cell_type": "code",
   "execution_count": 8,
   "metadata": {
    "id": "XzYRsxR1198O"
   },
   "outputs": [
    {
     "data": {
      "text/html": [
       "<div>\n",
       "<style scoped>\n",
       "    .dataframe tbody tr th:only-of-type {\n",
       "        vertical-align: middle;\n",
       "    }\n",
       "\n",
       "    .dataframe tbody tr th {\n",
       "        vertical-align: top;\n",
       "    }\n",
       "\n",
       "    .dataframe thead th {\n",
       "        text-align: right;\n",
       "    }\n",
       "</style>\n",
       "<table border=\"1\" class=\"dataframe\">\n",
       "  <thead>\n",
       "    <tr style=\"text-align: right;\">\n",
       "      <th></th>\n",
       "      <th>START_DATE*</th>\n",
       "      <th>END_DATE*</th>\n",
       "      <th>CATEGORY*</th>\n",
       "      <th>START*</th>\n",
       "      <th>STOP*</th>\n",
       "      <th>MILES*</th>\n",
       "      <th>PURPOSE*</th>\n",
       "    </tr>\n",
       "  </thead>\n",
       "  <tbody>\n",
       "    <tr>\n",
       "      <th>1145</th>\n",
       "      <td>12/30/2016 10:15</td>\n",
       "      <td>12/30/2016 10:33</td>\n",
       "      <td>Business</td>\n",
       "      <td>Karachi</td>\n",
       "      <td>Karachi</td>\n",
       "      <td>2.8</td>\n",
       "      <td>Errand/Supplies</td>\n",
       "    </tr>\n",
       "    <tr>\n",
       "      <th>1146</th>\n",
       "      <td>12/30/2016 11:31</td>\n",
       "      <td>12/30/2016 11:56</td>\n",
       "      <td>Business</td>\n",
       "      <td>Karachi</td>\n",
       "      <td>Karachi</td>\n",
       "      <td>2.9</td>\n",
       "      <td>Errand/Supplies</td>\n",
       "    </tr>\n",
       "    <tr>\n",
       "      <th>1147</th>\n",
       "      <td>12/30/2016 15:41</td>\n",
       "      <td>12/30/2016 16:03</td>\n",
       "      <td>Business</td>\n",
       "      <td>Karachi</td>\n",
       "      <td>Karachi</td>\n",
       "      <td>4.6</td>\n",
       "      <td>Errand/Supplies</td>\n",
       "    </tr>\n",
       "    <tr>\n",
       "      <th>1148</th>\n",
       "      <td>12/30/2016 16:45</td>\n",
       "      <td>12/30/2016 17:08</td>\n",
       "      <td>Business</td>\n",
       "      <td>Karachi</td>\n",
       "      <td>Karachi</td>\n",
       "      <td>4.6</td>\n",
       "      <td>Meeting</td>\n",
       "    </tr>\n",
       "    <tr>\n",
       "      <th>1149</th>\n",
       "      <td>12/30/2016 23:06</td>\n",
       "      <td>12/30/2016 23:10</td>\n",
       "      <td>Business</td>\n",
       "      <td>Karachi</td>\n",
       "      <td>Karachi</td>\n",
       "      <td>0.8</td>\n",
       "      <td>Customer Visit</td>\n",
       "    </tr>\n",
       "    <tr>\n",
       "      <th>1150</th>\n",
       "      <td>12/31/2016 1:07</td>\n",
       "      <td>12/31/2016 1:14</td>\n",
       "      <td>Business</td>\n",
       "      <td>Karachi</td>\n",
       "      <td>Karachi</td>\n",
       "      <td>0.7</td>\n",
       "      <td>Meeting</td>\n",
       "    </tr>\n",
       "    <tr>\n",
       "      <th>1151</th>\n",
       "      <td>12/31/2016 13:24</td>\n",
       "      <td>12/31/2016 13:42</td>\n",
       "      <td>Business</td>\n",
       "      <td>Karachi</td>\n",
       "      <td>Unknown Location</td>\n",
       "      <td>3.9</td>\n",
       "      <td>Temporary Site</td>\n",
       "    </tr>\n",
       "    <tr>\n",
       "      <th>1152</th>\n",
       "      <td>12/31/2016 15:03</td>\n",
       "      <td>12/31/2016 15:38</td>\n",
       "      <td>Business</td>\n",
       "      <td>Unknown Location</td>\n",
       "      <td>Unknown Location</td>\n",
       "      <td>16.2</td>\n",
       "      <td>Meeting</td>\n",
       "    </tr>\n",
       "    <tr>\n",
       "      <th>1153</th>\n",
       "      <td>12/31/2016 21:32</td>\n",
       "      <td>12/31/2016 21:50</td>\n",
       "      <td>Business</td>\n",
       "      <td>Katunayake</td>\n",
       "      <td>Gampaha</td>\n",
       "      <td>6.4</td>\n",
       "      <td>Temporary Site</td>\n",
       "    </tr>\n",
       "    <tr>\n",
       "      <th>1154</th>\n",
       "      <td>12/31/2016 22:08</td>\n",
       "      <td>12/31/2016 23:51</td>\n",
       "      <td>Business</td>\n",
       "      <td>Gampaha</td>\n",
       "      <td>Ilukwatta</td>\n",
       "      <td>48.2</td>\n",
       "      <td>Temporary Site</td>\n",
       "    </tr>\n",
       "  </tbody>\n",
       "</table>\n",
       "</div>"
      ],
      "text/plain": [
       "           START_DATE*         END_DATE* CATEGORY*            START*  \\\n",
       "1145  12/30/2016 10:15  12/30/2016 10:33  Business           Karachi   \n",
       "1146  12/30/2016 11:31  12/30/2016 11:56  Business           Karachi   \n",
       "1147  12/30/2016 15:41  12/30/2016 16:03  Business           Karachi   \n",
       "1148  12/30/2016 16:45  12/30/2016 17:08  Business           Karachi   \n",
       "1149  12/30/2016 23:06  12/30/2016 23:10  Business           Karachi   \n",
       "1150   12/31/2016 1:07   12/31/2016 1:14  Business           Karachi   \n",
       "1151  12/31/2016 13:24  12/31/2016 13:42  Business           Karachi   \n",
       "1152  12/31/2016 15:03  12/31/2016 15:38  Business  Unknown Location   \n",
       "1153  12/31/2016 21:32  12/31/2016 21:50  Business        Katunayake   \n",
       "1154  12/31/2016 22:08  12/31/2016 23:51  Business           Gampaha   \n",
       "\n",
       "                 STOP*  MILES*         PURPOSE*  \n",
       "1145           Karachi     2.8  Errand/Supplies  \n",
       "1146           Karachi     2.9  Errand/Supplies  \n",
       "1147           Karachi     4.6  Errand/Supplies  \n",
       "1148           Karachi     4.6          Meeting  \n",
       "1149           Karachi     0.8   Customer Visit  \n",
       "1150           Karachi     0.7          Meeting  \n",
       "1151  Unknown Location     3.9   Temporary Site  \n",
       "1152  Unknown Location    16.2          Meeting  \n",
       "1153           Gampaha     6.4   Temporary Site  \n",
       "1154         Ilukwatta    48.2   Temporary Site  "
      ]
     },
     "execution_count": 8,
     "metadata": {},
     "output_type": "execute_result"
    }
   ],
   "source": [
    "uber.tail(10)"
   ]
  },
  {
   "cell_type": "markdown",
   "metadata": {
    "id": "R2F4GX15198S"
   },
   "source": [
    "## Q3. Show the dimension(number of rows and columns) of the dataset."
   ]
  },
  {
   "cell_type": "code",
   "execution_count": 9,
   "metadata": {
    "id": "5YAWUNwZ198T"
   },
   "outputs": [
    {
     "data": {
      "text/plain": [
       "(1155, 7)"
      ]
     },
     "execution_count": 9,
     "metadata": {},
     "output_type": "execute_result"
    }
   ],
   "source": [
    "uber.shape"
   ]
  },
  {
   "cell_type": "markdown",
   "metadata": {
    "id": "H6x0S6vs198W"
   },
   "source": [
    "## Q4. Show the size (Total number of elements) of the dataset."
   ]
  },
  {
   "cell_type": "code",
   "execution_count": 10,
   "metadata": {
    "id": "2IQc1x7D198X"
   },
   "outputs": [
    {
     "data": {
      "text/plain": [
       "8085"
      ]
     },
     "execution_count": 10,
     "metadata": {},
     "output_type": "execute_result"
    }
   ],
   "source": [
    "uber.size"
   ]
  },
  {
   "cell_type": "markdown",
   "metadata": {
    "id": "c2ATRpjm198a"
   },
   "source": [
    "## Q5. Display the information about all the variables of the data set. What can you infer from the output?"
   ]
  },
  {
   "cell_type": "code",
   "execution_count": 12,
   "metadata": {},
   "outputs": [
    {
     "name": "stdout",
     "output_type": "stream",
     "text": [
      "<class 'pandas.core.frame.DataFrame'>\n",
      "RangeIndex: 1155 entries, 0 to 1154\n",
      "Data columns (total 7 columns):\n",
      " #   Column       Non-Null Count  Dtype  \n",
      "---  ------       --------------  -----  \n",
      " 0   START_DATE*  1155 non-null   object \n",
      " 1   END_DATE*    1155 non-null   object \n",
      " 2   CATEGORY*    1155 non-null   object \n",
      " 3   START*       1155 non-null   object \n",
      " 4   STOP*        1155 non-null   object \n",
      " 5   MILES*       1155 non-null   float64\n",
      " 6   PURPOSE*     653 non-null    object \n",
      "dtypes: float64(1), object(6)\n",
      "memory usage: 63.3+ KB\n"
     ]
    }
   ],
   "source": [
    "uber.info()"
   ]
  },
  {
   "cell_type": "code",
   "execution_count": null,
   "metadata": {
    "id": "D7Pfnrb6198b"
   },
   "outputs": [],
   "source": [
    "# we can infer that the start date, end date, category, start*, stop* and purpose are all object data type and the column purpose has NA values. the column miles has float datatyoe"
   ]
  },
  {
   "cell_type": "markdown",
   "metadata": {
    "id": "emZkbUV_198g"
   },
   "source": [
    "## Q6. Check for missing values"
   ]
  },
  {
   "cell_type": "code",
   "execution_count": 21,
   "metadata": {
    "id": "XWU-AunT198h"
   },
   "outputs": [
    {
     "data": {
      "text/plain": [
       "True"
      ]
     },
     "execution_count": 21,
     "metadata": {},
     "output_type": "execute_result"
    }
   ],
   "source": [
    "uber.isna().any().any()"
   ]
  },
  {
   "cell_type": "markdown",
   "metadata": {
    "id": "UCvC2OPe198l"
   },
   "source": [
    "## Q7. How many missing values are present in the entire dataset?\n"
   ]
  },
  {
   "cell_type": "code",
   "execution_count": 22,
   "metadata": {
    "id": "o2-vHyGA198m"
   },
   "outputs": [
    {
     "data": {
      "text/plain": [
       "START_DATE*  END_DATE*  CATEGORY*  START*  STOP*  MILES*  PURPOSE*\n",
       "False        False      False      False   False  False   False       653\n",
       "                                                          True        502\n",
       "dtype: int64"
      ]
     },
     "execution_count": 22,
     "metadata": {},
     "output_type": "execute_result"
    }
   ],
   "source": [
    "uber.isna().value_counts()"
   ]
  },
  {
   "cell_type": "markdown",
   "metadata": {
    "id": "617aSeL_198q"
   },
   "source": [
    "## Q8. Get the summary of the original data.\n",
    "\n",
    "#### Hint: Summary includes- Count,Mean, Std, Min, 25%,50%,75% and max"
   ]
  },
  {
   "cell_type": "code",
   "execution_count": 20,
   "metadata": {
    "id": "hMkibRQg198q"
   },
   "outputs": [
    {
     "data": {
      "text/html": [
       "<div>\n",
       "<style scoped>\n",
       "    .dataframe tbody tr th:only-of-type {\n",
       "        vertical-align: middle;\n",
       "    }\n",
       "\n",
       "    .dataframe tbody tr th {\n",
       "        vertical-align: top;\n",
       "    }\n",
       "\n",
       "    .dataframe thead th {\n",
       "        text-align: right;\n",
       "    }\n",
       "</style>\n",
       "<table border=\"1\" class=\"dataframe\">\n",
       "  <thead>\n",
       "    <tr style=\"text-align: right;\">\n",
       "      <th></th>\n",
       "      <th>MILES*</th>\n",
       "    </tr>\n",
       "  </thead>\n",
       "  <tbody>\n",
       "    <tr>\n",
       "      <th>count</th>\n",
       "      <td>1155.000000</td>\n",
       "    </tr>\n",
       "    <tr>\n",
       "      <th>mean</th>\n",
       "      <td>10.566840</td>\n",
       "    </tr>\n",
       "    <tr>\n",
       "      <th>std</th>\n",
       "      <td>21.579106</td>\n",
       "    </tr>\n",
       "    <tr>\n",
       "      <th>min</th>\n",
       "      <td>0.500000</td>\n",
       "    </tr>\n",
       "    <tr>\n",
       "      <th>25%</th>\n",
       "      <td>2.900000</td>\n",
       "    </tr>\n",
       "    <tr>\n",
       "      <th>50%</th>\n",
       "      <td>6.000000</td>\n",
       "    </tr>\n",
       "    <tr>\n",
       "      <th>75%</th>\n",
       "      <td>10.400000</td>\n",
       "    </tr>\n",
       "    <tr>\n",
       "      <th>max</th>\n",
       "      <td>310.300000</td>\n",
       "    </tr>\n",
       "  </tbody>\n",
       "</table>\n",
       "</div>"
      ],
      "text/plain": [
       "            MILES*\n",
       "count  1155.000000\n",
       "mean     10.566840\n",
       "std      21.579106\n",
       "min       0.500000\n",
       "25%       2.900000\n",
       "50%       6.000000\n",
       "75%      10.400000\n",
       "max     310.300000"
      ]
     },
     "execution_count": 20,
     "metadata": {},
     "output_type": "execute_result"
    }
   ],
   "source": [
    "uber.describe()"
   ]
  },
  {
   "cell_type": "markdown",
   "metadata": {
    "id": "8PmU-86n198v"
   },
   "source": [
    "\n",
    "\n",
    "## Q9. Drop the missing values and store the data in a new dataframe (name it\"df\") "
   ]
  },
  {
   "cell_type": "code",
   "execution_count": 24,
   "metadata": {
    "id": "3xZC0dvq198w"
   },
   "outputs": [],
   "source": [
    "df=uber.dropna()"
   ]
  },
  {
   "cell_type": "markdown",
   "metadata": {
    "id": "2vIFI9G61983"
   },
   "source": [
    "## Q10. Check the information of the dataframe(df)."
   ]
  },
  {
   "cell_type": "code",
   "execution_count": 25,
   "metadata": {
    "id": "DrmfQwDc1983"
   },
   "outputs": [
    {
     "name": "stdout",
     "output_type": "stream",
     "text": [
      "<class 'pandas.core.frame.DataFrame'>\n",
      "Int64Index: 653 entries, 0 to 1154\n",
      "Data columns (total 7 columns):\n",
      " #   Column       Non-Null Count  Dtype  \n",
      "---  ------       --------------  -----  \n",
      " 0   START_DATE*  653 non-null    object \n",
      " 1   END_DATE*    653 non-null    object \n",
      " 2   CATEGORY*    653 non-null    object \n",
      " 3   START*       653 non-null    object \n",
      " 4   STOP*        653 non-null    object \n",
      " 5   MILES*       653 non-null    float64\n",
      " 6   PURPOSE*     653 non-null    object \n",
      "dtypes: float64(1), object(6)\n",
      "memory usage: 40.8+ KB\n"
     ]
    }
   ],
   "source": [
    "df.info()"
   ]
  },
  {
   "cell_type": "markdown",
   "metadata": {
    "id": "Pqm4jhgT1986"
   },
   "source": [
    "## Q11. Get the unique start locations."
   ]
  },
  {
   "cell_type": "code",
   "execution_count": 27,
   "metadata": {
    "id": "jsuoItZX1987"
   },
   "outputs": [
    {
     "data": {
      "text/plain": [
       "array(['Fort Pierce', 'West Palm Beach', 'Cary', 'Jamaica', 'New York',\n",
       "       'Elmhurst', 'Midtown', 'East Harlem', 'Flatiron District',\n",
       "       'Midtown East', 'Hudson Square', 'Lower Manhattan',\n",
       "       \"Hell's Kitchen\", 'Downtown', 'Gulfton', 'Houston', 'Eagan Park',\n",
       "       'Morrisville', 'Durham', 'Farmington Woods', 'Lake Wellingborough',\n",
       "       'Fayetteville Street', 'Raleigh', 'Whitebridge', 'Hazelwood',\n",
       "       'Fairmont', 'Meredith Townes', 'Apex', 'Chapel Hill', 'Northwoods',\n",
       "       'Edgehill Farms', 'Eastgate', 'East Elmhurst', 'Long Island City',\n",
       "       'Katunayaka', 'Colombo', 'Nugegoda', 'Unknown Location',\n",
       "       'Islamabad', 'R?walpindi', 'Noorpur Shahan', 'Preston',\n",
       "       'Heritage Pines', 'Tanglewood', 'Waverly Place', 'Wayne Ridge',\n",
       "       'Westpark Place', 'East Austin', 'The Drag', 'South Congress',\n",
       "       'Georgian Acres', 'North Austin', 'West University', 'Austin',\n",
       "       'Katy', 'Sharpstown', 'Sugar Land', 'Galveston', 'Port Bolivar',\n",
       "       'Washington Avenue', 'Briar Meadow', 'Latta', 'Jacksonville',\n",
       "       'Lake Reams', 'Orlando', 'Kissimmee', 'Daytona Beach', 'Ridgeland',\n",
       "       'Florence', 'Meredith', 'Holly Springs', 'Chessington', 'Burtrose',\n",
       "       'Parkway', 'Mcvan', 'Capitol One', 'University District',\n",
       "       'Seattle', 'Redmond', 'Bellevue', 'San Francisco', 'Palo Alto',\n",
       "       'Sunnyvale', 'Newark', 'Menlo Park', 'Old City', 'Savon Height',\n",
       "       'Kilarney Woods', 'Townes at Everett Crossing', 'Huntington Woods',\n",
       "       'Weston', 'Seaport', 'Medical Centre', 'Rose Hill', 'Soho',\n",
       "       'Tribeca', 'Financial District', 'Oakland', 'Emeryville',\n",
       "       'Berkeley', 'Kenner', 'CBD', 'Lower Garden District', 'Storyville',\n",
       "       'New Orleans', 'Chalmette', 'Arabi', 'Pontchartrain Shores',\n",
       "       'Metairie', 'Summerwinds', 'Parkwood', 'Banner Elk', 'Boone',\n",
       "       'Stonewater', 'Lexington Park at Amberly', 'Winston Salem',\n",
       "       'Asheville', 'Topton', 'Renaissance', 'Santa Clara', 'Ingleside',\n",
       "       'West Berkeley', 'Mountain View', 'El Cerrito', 'Krendle Woods',\n",
       "       'Fuquay-Varina', 'Rawalpindi', 'Lahore', 'Karachi', 'Katunayake',\n",
       "       'Gampaha'], dtype=object)"
      ]
     },
     "execution_count": 27,
     "metadata": {},
     "output_type": "execute_result"
    }
   ],
   "source": [
    "df['START*'].unique()"
   ]
  },
  {
   "cell_type": "markdown",
   "metadata": {
    "id": "s3s-pY1R198_"
   },
   "source": [
    "## Q12. What is the total number of unique start destinations?"
   ]
  },
  {
   "cell_type": "code",
   "execution_count": 28,
   "metadata": {
    "id": "OOZy88AA199A"
   },
   "outputs": [
    {
     "data": {
      "text/plain": [
       "array(['Fort Pierce', 'West Palm Beach', 'Cary', 'Jamaica', 'New York',\n",
       "       'Elmhurst', 'Midtown', 'East Harlem', 'Flatiron District',\n",
       "       'Midtown East', 'Hudson Square', 'Lower Manhattan',\n",
       "       \"Hell's Kitchen\", 'Downtown', 'Gulfton', 'Houston', 'Eagan Park',\n",
       "       'Morrisville', 'Durham', 'Farmington Woods', 'Whitebridge',\n",
       "       'Lake Wellingborough', 'Fayetteville Street', 'Raleigh',\n",
       "       'Hazelwood', 'Fairmont', 'Meredith Townes', 'Apex', 'Chapel Hill',\n",
       "       'Northwoods', 'Edgehill Farms', 'Tanglewood', 'Preston',\n",
       "       'Eastgate', 'East Elmhurst', 'Jackson Heights', 'Long Island City',\n",
       "       'Katunayaka', 'Unknown Location', 'Colombo', 'Nugegoda',\n",
       "       'Islamabad', 'R?walpindi', 'Noorpur Shahan', 'Heritage Pines',\n",
       "       'Westpark Place', 'Waverly Place', 'Wayne Ridge', 'Weston',\n",
       "       'East Austin', 'West University', 'South Congress', 'The Drag',\n",
       "       'Congress Ave District', 'Red River District', 'Georgian Acres',\n",
       "       'North Austin', 'Coxville', 'Convention Center District', 'Austin',\n",
       "       'Katy', 'Sharpstown', 'Sugar Land', 'Galveston', 'Port Bolivar',\n",
       "       'Washington Avenue', 'Briar Meadow', 'Latta', 'Jacksonville',\n",
       "       'Couples Glen', 'Kissimmee', 'Lake Reams', 'Orlando',\n",
       "       'Sand Lake Commons', 'Sky Lake', 'Daytona Beach', 'Ridgeland',\n",
       "       'Florence', 'Meredith', 'Holly Springs', 'Chessington', 'Burtrose',\n",
       "       'Parkway', 'Mcvan', 'Capitol One', 'University District',\n",
       "       'Seattle', 'Redmond', 'Bellevue', 'San Francisco', 'Palo Alto',\n",
       "       'Sunnyvale', 'Newark', 'Menlo Park', 'Old City', 'Savon Height',\n",
       "       'Kilarney Woods', 'Townes at Everett Crossing', 'Huntington Woods',\n",
       "       'Seaport', 'Medical Centre', 'Rose Hill', 'Soho', 'Tribeca',\n",
       "       'Financial District', 'Oakland', 'Emeryville', 'Berkeley',\n",
       "       'Kenner', 'CBD', 'Lower Garden District', 'Lakeview', 'Storyville',\n",
       "       'New Orleans', 'Metairie', 'Chalmette', 'Arabi',\n",
       "       'Pontchartrain Shores', 'Marigny', 'Covington', 'Mandeville',\n",
       "       'Jamestown Court', 'Summerwinds', 'Parkwood',\n",
       "       'Pontchartrain Beach', 'St Thomas', 'Banner Elk', 'Elk Park',\n",
       "       'Newland', 'Boone', 'Stonewater', 'Lexington Park at Amberly',\n",
       "       'Arlington Park at Amberly', 'Arlington', 'Kalorama Triangle',\n",
       "       'K Street', 'West End', 'Connecticut Avenue', 'Columbia Heights',\n",
       "       'Washington', 'Wake Forest', 'Lahore', 'Karachi', 'SOMISSPO',\n",
       "       'West Berkeley', 'North Berkeley Hills', 'San Jose', 'Eagle Rock',\n",
       "       'Winston Salem', 'Asheville', 'Topton', 'Hayesville',\n",
       "       'Bryson City', 'Almond', 'Mebane', 'Agnew', 'Cory', 'Renaissance',\n",
       "       'Santa Clara', 'NOMA', 'Sunnyside', 'Ingleside', 'Central',\n",
       "       'Tenderloin', 'College Avenue', 'South', 'Southside',\n",
       "       'South Berkeley', 'Mountain View', 'El Cerrito', 'Krendle Woods',\n",
       "       'Wake Co.', 'Fuquay-Varina', 'Rawalpindi', 'Katunayake', 'Gampaha'],\n",
       "      dtype=object)"
      ]
     },
     "execution_count": 28,
     "metadata": {},
     "output_type": "execute_result"
    }
   ],
   "source": [
    "uber['START*'].unique()"
   ]
  },
  {
   "cell_type": "markdown",
   "metadata": {
    "id": "LuKFv1_P199D"
   },
   "source": [
    "## Q13. What is the total number of unique stop locations."
   ]
  },
  {
   "cell_type": "code",
   "execution_count": 29,
   "metadata": {
    "id": "5YeWcpZT199E"
   },
   "outputs": [
    {
     "data": {
      "text/plain": [
       "array(['Fort Pierce', 'West Palm Beach', 'Palm Beach', 'Cary',\n",
       "       'Morrisville', 'New York', 'Queens', 'East Harlem', 'NoMad',\n",
       "       'Midtown', 'Midtown East', 'Hudson Square', 'Lower Manhattan',\n",
       "       \"Hell's Kitchen\", 'Queens County', 'Gulfton', 'Downtown',\n",
       "       'Houston', 'Jamestown Court', 'Durham', 'Whitebridge',\n",
       "       'Lake Wellingborough', 'Raleigh', 'Umstead', 'Hazelwood',\n",
       "       'Westpark Place', 'Meredith Townes', 'Leesville Hollow', 'Apex',\n",
       "       'Chapel Hill', 'Williamsburg Manor', 'Macgregor Downs',\n",
       "       'Edgehill Farms', 'Northwoods', 'Tanglewood', 'Preston',\n",
       "       'Walnut Terrace', 'Jackson Heights', 'East Elmhurst',\n",
       "       'Midtown West', 'Long Island City', 'Jamaica', 'Unknown Location',\n",
       "       'Colombo', 'Nugegoda', 'Katunayaka', 'Islamabad', 'R?walpindi',\n",
       "       'Noorpur Shahan', 'Heritage Pines', 'Waverly Place', 'Wayne Ridge',\n",
       "       'Depot Historic District', 'Weston', 'West University',\n",
       "       'South Congress', 'Arts District', 'Congress Ave District',\n",
       "       'Red River District', 'The Drag', 'Convention Center District',\n",
       "       'North Austin', 'Coxville', 'Katy', 'Alief', 'Sharpstown',\n",
       "       'Sugar Land', 'Galveston', 'Port Bolivar', 'Washington Avenue',\n",
       "       'Briar Meadow', 'Greater Greenspoint', 'Latta', 'Jacksonville',\n",
       "       'Kissimmee', 'Isles of Buena Vista', 'Orlando', 'Lake Reams',\n",
       "       'Vista East', 'Sky Lake', 'Sand Lake Commons', 'Daytona Beach',\n",
       "       'Ridgeland', 'Florence', 'Cedar Hill', 'Holly Springs',\n",
       "       'Harden Place', 'Chessington', 'Burtrose', 'Parkway',\n",
       "       'Capitol One', 'University District', 'Redmond', 'Bellevue',\n",
       "       'Seattle', 'Mcvan', 'Palo Alto', 'Sunnyvale', 'Newark',\n",
       "       'Menlo Park', 'San Francisco', 'Parkway Museums', 'Hog Island',\n",
       "       'Savon Height', 'Kildaire Farms', 'Kilarney Woods',\n",
       "       'Gramercy-Flatiron', 'Tudor City', 'Soho', 'Tribeca',\n",
       "       'Financial District', 'Kips Bay', 'Emeryville', 'Berkeley',\n",
       "       'Oakland', 'Bay Farm Island', 'New Orleans',\n",
       "       'Lower Garden District', 'Lakeview', 'Storyville',\n",
       "       'Faubourg Marigny', 'Metairie', 'Kenner', 'Bywater', 'Chalmette',\n",
       "       'Arabi', 'Pontchartrain Shores', 'Marigny', 'Covington',\n",
       "       'Mandeville', 'Summerwinds', 'Parkwood', 'Pontchartrain Beach',\n",
       "       'CBD', 'St Thomas', 'Banner Elk', 'Elk Park', 'Newland', 'Boone',\n",
       "       'Stonewater', 'Lexington Park at Amberly',\n",
       "       'Arlington Park at Amberly', 'Washington', 'K Street',\n",
       "       'Kalorama Triangle', 'Northwest Rectangle', 'Columbia Heights',\n",
       "       'Arlington', 'Farmington Woods', 'Wake Forest', 'Lahore',\n",
       "       'Karachi', 'French Quarter', 'North Berkeley Hills', 'Southside',\n",
       "       'San Jose', 'Eagle Rock', 'Huntington Woods', 'Winston Salem',\n",
       "       'Asheville', 'Topton', 'Hayesville', 'Bryson City', 'Almond',\n",
       "       'Mebane', 'Santa Clara', 'Cory', 'Agnew', 'Renaissance',\n",
       "       'West Berkeley', 'Central', 'Sunnyside', 'Ingleside',\n",
       "       'Potrero Flats', 'SOMISSPO', 'Tenderloin', 'College Avenue',\n",
       "       'South', 'Southwest Berkeley', 'South Berkeley', 'Mountain View',\n",
       "       'El Cerrito', 'Wake Co.', 'Fuquay-Varina', 'Rawalpindi', 'Gampaha',\n",
       "       'Ilukwatta'], dtype=object)"
      ]
     },
     "execution_count": 29,
     "metadata": {},
     "output_type": "execute_result"
    }
   ],
   "source": [
    "uber['STOP*'].unique()"
   ]
  },
  {
   "cell_type": "markdown",
   "metadata": {
    "id": "VmkTnPlt199H"
   },
   "source": [
    "## Q14. Display all Uber trips that has the starting point as San Francisco.\n"
   ]
  },
  {
   "cell_type": "code",
   "execution_count": 34,
   "metadata": {
    "id": "fwhKZQfs199I"
   },
   "outputs": [
    {
     "data": {
      "text/html": [
       "<div>\n",
       "<style scoped>\n",
       "    .dataframe tbody tr th:only-of-type {\n",
       "        vertical-align: middle;\n",
       "    }\n",
       "\n",
       "    .dataframe tbody tr th {\n",
       "        vertical-align: top;\n",
       "    }\n",
       "\n",
       "    .dataframe thead th {\n",
       "        text-align: right;\n",
       "    }\n",
       "</style>\n",
       "<table border=\"1\" class=\"dataframe\">\n",
       "  <thead>\n",
       "    <tr style=\"text-align: right;\">\n",
       "      <th></th>\n",
       "      <th>START_DATE*</th>\n",
       "      <th>END_DATE*</th>\n",
       "      <th>CATEGORY*</th>\n",
       "      <th>START*</th>\n",
       "      <th>STOP*</th>\n",
       "      <th>MILES*</th>\n",
       "      <th>PURPOSE*</th>\n",
       "    </tr>\n",
       "  </thead>\n",
       "  <tbody>\n",
       "    <tr>\n",
       "      <th>362</th>\n",
       "      <td>05-09-2016 14:39</td>\n",
       "      <td>05-09-2016 15:06</td>\n",
       "      <td>Business</td>\n",
       "      <td>San Francisco</td>\n",
       "      <td>Palo Alto</td>\n",
       "      <td>20.5</td>\n",
       "      <td>Between Offices</td>\n",
       "    </tr>\n",
       "    <tr>\n",
       "      <th>440</th>\n",
       "      <td>6/14/2016 16:09</td>\n",
       "      <td>6/14/2016 16:39</td>\n",
       "      <td>Business</td>\n",
       "      <td>San Francisco</td>\n",
       "      <td>Emeryville</td>\n",
       "      <td>11.6</td>\n",
       "      <td>Meeting</td>\n",
       "    </tr>\n",
       "    <tr>\n",
       "      <th>836</th>\n",
       "      <td>10/19/2016 14:02</td>\n",
       "      <td>10/19/2016 14:31</td>\n",
       "      <td>Business</td>\n",
       "      <td>San Francisco</td>\n",
       "      <td>Berkeley</td>\n",
       "      <td>10.8</td>\n",
       "      <td>NaN</td>\n",
       "    </tr>\n",
       "    <tr>\n",
       "      <th>917</th>\n",
       "      <td>11-07-2016 19:17</td>\n",
       "      <td>11-07-2016 19:57</td>\n",
       "      <td>Business</td>\n",
       "      <td>San Francisco</td>\n",
       "      <td>Berkeley</td>\n",
       "      <td>13.2</td>\n",
       "      <td>Between Offices</td>\n",
       "    </tr>\n",
       "    <tr>\n",
       "      <th>919</th>\n",
       "      <td>11-08-2016 12:16</td>\n",
       "      <td>11-08-2016 12:49</td>\n",
       "      <td>Business</td>\n",
       "      <td>San Francisco</td>\n",
       "      <td>Berkeley</td>\n",
       "      <td>11.3</td>\n",
       "      <td>Meeting</td>\n",
       "    </tr>\n",
       "    <tr>\n",
       "      <th>927</th>\n",
       "      <td>11-09-2016 18:40</td>\n",
       "      <td>11-09-2016 19:17</td>\n",
       "      <td>Business</td>\n",
       "      <td>San Francisco</td>\n",
       "      <td>Oakland</td>\n",
       "      <td>12.7</td>\n",
       "      <td>Customer Visit</td>\n",
       "    </tr>\n",
       "    <tr>\n",
       "      <th>933</th>\n",
       "      <td>11-10-2016 15:17</td>\n",
       "      <td>11-10-2016 15:22</td>\n",
       "      <td>Business</td>\n",
       "      <td>San Francisco</td>\n",
       "      <td>Oakland</td>\n",
       "      <td>9.9</td>\n",
       "      <td>Temporary Site</td>\n",
       "    </tr>\n",
       "    <tr>\n",
       "      <th>966</th>\n",
       "      <td>11/15/2016 20:44</td>\n",
       "      <td>11/15/2016 21:00</td>\n",
       "      <td>Business</td>\n",
       "      <td>San Francisco</td>\n",
       "      <td>Berkeley</td>\n",
       "      <td>11.8</td>\n",
       "      <td>Temporary Site</td>\n",
       "    </tr>\n",
       "  </tbody>\n",
       "</table>\n",
       "</div>"
      ],
      "text/plain": [
       "          START_DATE*         END_DATE* CATEGORY*         START*       STOP*  \\\n",
       "362  05-09-2016 14:39  05-09-2016 15:06  Business  San Francisco   Palo Alto   \n",
       "440   6/14/2016 16:09   6/14/2016 16:39  Business  San Francisco  Emeryville   \n",
       "836  10/19/2016 14:02  10/19/2016 14:31  Business  San Francisco    Berkeley   \n",
       "917  11-07-2016 19:17  11-07-2016 19:57  Business  San Francisco    Berkeley   \n",
       "919  11-08-2016 12:16  11-08-2016 12:49  Business  San Francisco    Berkeley   \n",
       "927  11-09-2016 18:40  11-09-2016 19:17  Business  San Francisco     Oakland   \n",
       "933  11-10-2016 15:17  11-10-2016 15:22  Business  San Francisco     Oakland   \n",
       "966  11/15/2016 20:44  11/15/2016 21:00  Business  San Francisco    Berkeley   \n",
       "\n",
       "     MILES*         PURPOSE*  \n",
       "362    20.5  Between Offices  \n",
       "440    11.6          Meeting  \n",
       "836    10.8              NaN  \n",
       "917    13.2  Between Offices  \n",
       "919    11.3          Meeting  \n",
       "927    12.7   Customer Visit  \n",
       "933     9.9   Temporary Site  \n",
       "966    11.8   Temporary Site  "
      ]
     },
     "execution_count": 34,
     "metadata": {},
     "output_type": "execute_result"
    }
   ],
   "source": [
    " uber[uber['START*']== 'San Francisco']"
   ]
  },
  {
   "cell_type": "markdown",
   "metadata": {
    "id": "ZMsuzJcG199O"
   },
   "source": [
    "## Q15. What is the most popular starting point for the Uber drivers?"
   ]
  },
  {
   "cell_type": "code",
   "execution_count": 63,
   "metadata": {
    "id": "a5QGyjza199P"
   },
   "outputs": [
    {
     "data": {
      "text/plain": [
       "Cary                201\n",
       "Unknown Location    148\n",
       "Morrisville          85\n",
       "Whitebridge          68\n",
       "Islamabad            57\n",
       "                   ... \n",
       "Eastgate              1\n",
       "Fuquay-Varina         1\n",
       "Latta                 1\n",
       "Meredith              1\n",
       "Wake Forest           1\n",
       "Name: START*, Length: 176, dtype: int64"
      ]
     },
     "execution_count": 63,
     "metadata": {},
     "output_type": "execute_result"
    }
   ],
   "source": [
    "uber['START*'].value_counts()"
   ]
  },
  {
   "cell_type": "code",
   "execution_count": null,
   "metadata": {},
   "outputs": [],
   "source": [
    "# Cary is the most popular starting point for uber drivers"
   ]
  },
  {
   "cell_type": "markdown",
   "metadata": {
    "id": "S13-HiPG199T"
   },
   "source": [
    "## Q16. What is the most popular dropping point for the Uber drivers?"
   ]
  },
  {
   "cell_type": "code",
   "execution_count": 64,
   "metadata": {
    "id": "YP-hwvNT199T"
   },
   "outputs": [
    {
     "data": {
      "text/plain": [
       "Cary                   203\n",
       "Unknown Location       149\n",
       "Morrisville             84\n",
       "Whitebridge             65\n",
       "Islamabad               58\n",
       "                      ... \n",
       "Lake Wellingborough      1\n",
       "Parkway Museums          1\n",
       "Ilukwatta                1\n",
       "Sand Lake Commons        1\n",
       "Cory                     1\n",
       "Name: STOP*, Length: 187, dtype: int64"
      ]
     },
     "execution_count": 64,
     "metadata": {},
     "output_type": "execute_result"
    }
   ],
   "source": [
    "uber['STOP*'].value_counts()"
   ]
  },
  {
   "cell_type": "code",
   "execution_count": null,
   "metadata": {},
   "outputs": [],
   "source": [
    "# Cary is the most popular starting point for uber drivers"
   ]
  },
  {
   "cell_type": "markdown",
   "metadata": {
    "id": "6Iqizk7B199W"
   },
   "source": [
    "## Q17. What is the most frequent route taken by Uber drivers."
   ]
  },
  {
   "cell_type": "code",
   "execution_count": 76,
   "metadata": {
    "id": "f41v9gc4199X"
   },
   "outputs": [
    {
     "data": {
      "text/html": [
       "<div>\n",
       "<style scoped>\n",
       "    .dataframe tbody tr th:only-of-type {\n",
       "        vertical-align: middle;\n",
       "    }\n",
       "\n",
       "    .dataframe tbody tr th {\n",
       "        vertical-align: top;\n",
       "    }\n",
       "\n",
       "    .dataframe thead th {\n",
       "        text-align: right;\n",
       "    }\n",
       "</style>\n",
       "<table border=\"1\" class=\"dataframe\">\n",
       "  <thead>\n",
       "    <tr style=\"text-align: right;\">\n",
       "      <th></th>\n",
       "      <th></th>\n",
       "      <th>Count</th>\n",
       "    </tr>\n",
       "    <tr>\n",
       "      <th>START*</th>\n",
       "      <th>STOP*</th>\n",
       "      <th></th>\n",
       "    </tr>\n",
       "  </thead>\n",
       "  <tbody>\n",
       "    <tr>\n",
       "      <th>Cary</th>\n",
       "      <th>Morrisville</th>\n",
       "      <td>52</td>\n",
       "    </tr>\n",
       "  </tbody>\n",
       "</table>\n",
       "</div>"
      ],
      "text/plain": [
       "                    Count\n",
       "START* STOP*             \n",
       "Cary   Morrisville     52"
      ]
     },
     "execution_count": 76,
     "metadata": {},
     "output_type": "execute_result"
    }
   ],
   "source": [
    "df3 = pd.DataFrame(df.groupby(['START*', 'STOP*']).size())\n",
    "df3 = df3.rename(columns = {0:'Count'})\n",
    "df3 = df3.sort_values(['Count'], ascending = False)\n",
    "df3.loc[df3['Count'] == max(df3['Count'])]"
   ]
  },
  {
   "cell_type": "code",
   "execution_count": null,
   "metadata": {},
   "outputs": [],
   "source": [
    "# df.groupby(['START*','STOP*'])['MILES*'].sum() is used to group with start and stop with respect to miles"
   ]
  },
  {
   "cell_type": "markdown",
   "metadata": {
    "id": "oBrYyZ-L199Z"
   },
   "source": [
    "## Q18. Display all types of purposes for the trip in an array."
   ]
  },
  {
   "cell_type": "code",
   "execution_count": 80,
   "metadata": {
    "id": "p3fe_lTe199a"
   },
   "outputs": [
    {
     "data": {
      "text/plain": [
       "Meeting            187\n",
       "Meal/Entertain     160\n",
       "Errand/Supplies    128\n",
       "Customer Visit     101\n",
       "Temporary Site      50\n",
       "Between Offices     18\n",
       "Moving               4\n",
       "Airport/Travel       3\n",
       "Commute              1\n",
       "Charity ($)          1\n",
       "Name: PURPOSE*, dtype: int64"
      ]
     },
     "execution_count": 80,
     "metadata": {},
     "output_type": "execute_result"
    }
   ],
   "source": [
    "df['PURPOSE*'].value_counts()"
   ]
  },
  {
   "cell_type": "markdown",
   "metadata": {
    "id": "WBN9Ufxc199d"
   },
   "source": [
    "## Q19. Plot a bar graph of Purpose vs Miles(Distance). What can you infer from the plot"
   ]
  },
  {
   "cell_type": "code",
   "execution_count": 81,
   "metadata": {
    "id": "JaNSQ_qSa-Rg"
   },
   "outputs": [
    {
     "data": {
      "image/png": "[encoded data removed]",
      "text/plain": [
       "<Figure size 432x288 with 1 Axes>"
      ]
     },
     "metadata": {
      "needs_background": "light"
     },
     "output_type": "display_data"
    }
   ],
   "source": [
    "visual_df = pd.DataFrame(uber['MILES*'].groupby(uber['PURPOSE*']).sum())\n",
    "visual_df .plot(kind = 'bar')\n",
    "plt.show()"
   ]
  },
  {
   "cell_type": "code",
   "execution_count": null,
   "metadata": {},
   "outputs": [],
   "source": [
    "# we can infer that meeting purpose has the max miles"
   ]
  },
  {
   "cell_type": "markdown",
   "metadata": {
    "id": "b7-pD446199j"
   },
   "source": [
    "## Q20. Display a dataframe of Purpose and the total distance travelled for that particular Purpose."
   ]
  },
  {
   "cell_type": "code",
   "execution_count": 91,
   "metadata": {
    "id": "Em4d7Ng9199k"
   },
   "outputs": [
    {
     "data": {
      "text/html": [
       "<div>\n",
       "<style scoped>\n",
       "    .dataframe tbody tr th:only-of-type {\n",
       "        vertical-align: middle;\n",
       "    }\n",
       "\n",
       "    .dataframe tbody tr th {\n",
       "        vertical-align: top;\n",
       "    }\n",
       "\n",
       "    .dataframe thead th {\n",
       "        text-align: right;\n",
       "    }\n",
       "</style>\n",
       "<table border=\"1\" class=\"dataframe\">\n",
       "  <thead>\n",
       "    <tr style=\"text-align: right;\">\n",
       "      <th></th>\n",
       "      <th>MILES*</th>\n",
       "    </tr>\n",
       "    <tr>\n",
       "      <th>PURPOSE*</th>\n",
       "      <th></th>\n",
       "    </tr>\n",
       "  </thead>\n",
       "  <tbody>\n",
       "    <tr>\n",
       "      <th>Meeting</th>\n",
       "      <td>2851.3</td>\n",
       "    </tr>\n",
       "    <tr>\n",
       "      <th>Customer Visit</th>\n",
       "      <td>2089.5</td>\n",
       "    </tr>\n",
       "    <tr>\n",
       "      <th>Meal/Entertain</th>\n",
       "      <td>911.7</td>\n",
       "    </tr>\n",
       "    <tr>\n",
       "      <th>Temporary Site</th>\n",
       "      <td>523.7</td>\n",
       "    </tr>\n",
       "    <tr>\n",
       "      <th>Errand/Supplies</th>\n",
       "      <td>508.0</td>\n",
       "    </tr>\n",
       "    <tr>\n",
       "      <th>Between Offices</th>\n",
       "      <td>197.0</td>\n",
       "    </tr>\n",
       "    <tr>\n",
       "      <th>Commute</th>\n",
       "      <td>180.2</td>\n",
       "    </tr>\n",
       "    <tr>\n",
       "      <th>Moving</th>\n",
       "      <td>18.2</td>\n",
       "    </tr>\n",
       "    <tr>\n",
       "      <th>Airport/Travel</th>\n",
       "      <td>16.5</td>\n",
       "    </tr>\n",
       "    <tr>\n",
       "      <th>Charity ($)</th>\n",
       "      <td>15.1</td>\n",
       "    </tr>\n",
       "  </tbody>\n",
       "</table>\n",
       "</div>"
      ],
      "text/plain": [
       "                 MILES*\n",
       "PURPOSE*               \n",
       "Meeting          2851.3\n",
       "Customer Visit   2089.5\n",
       "Meal/Entertain    911.7\n",
       "Temporary Site    523.7\n",
       "Errand/Supplies   508.0\n",
       "Between Offices   197.0\n",
       "Commute           180.2\n",
       "Moving             18.2\n",
       "Airport/Travel     16.5\n",
       "Charity ($)        15.1"
      ]
     },
     "execution_count": 91,
     "metadata": {},
     "output_type": "execute_result"
    }
   ],
   "source": [
    "uber_new=pd.DataFrame(uber.groupby('PURPOSE*').sum()['MILES*'].sort_values(ascending = False))\n",
    "uber_new"
   ]
  },
  {
   "cell_type": "markdown",
   "metadata": {
    "id": "CIZBaeSt199o"
   },
   "source": [
    "## Q21. Generate a plot showing count of trips vs category of trips. What can you infer from the plot"
   ]
  },
  {
   "cell_type": "code",
   "execution_count": 100,
   "metadata": {
    "id": "fRuxSI0W199p"
   },
   "outputs": [
    {
     "data": {
      "text/plain": [
       "Business    1078\n",
       "Personal      77\n",
       "Name: CATEGORY*, dtype: int64"
      ]
     },
     "execution_count": 100,
     "metadata": {},
     "output_type": "execute_result"
    }
   ],
   "source": [
    "uber['CATEGORY*'].value_counts()"
   ]
  },
  {
   "cell_type": "code",
   "execution_count": 99,
   "metadata": {},
   "outputs": [
    {
     "name": "stderr",
     "output_type": "stream",
     "text": [
      "C:\\Users\\akash\\anaconda3\\lib\\site-packages\\seaborn\\_decorators.py:36: FutureWarning: Pass the following variable as a keyword arg: x. From version 0.12, the only valid positional argument will be `data`, and passing other arguments without an explicit keyword will result in an error or misinterpretation.\n",
      "  warnings.warn(\n"
     ]
    },
    {
     "data": {
      "text/plain": [
       "<AxesSubplot:xlabel='CATEGORY*', ylabel='count'>"
      ]
     },
     "execution_count": 99,
     "metadata": {},
     "output_type": "execute_result"
    },
    {
     "data": {
      "image/png": "[encoded data removed]",
      "text/plain": [
       "<Figure size 842.4x595.44 with 1 Axes>"
      ]
     },
     "metadata": {},
     "output_type": "display_data"
    }
   ],
   "source": [
    "\n",
    "sns.countplot(uber['CATEGORY*'])\n"
   ]
  },
  {
   "cell_type": "code",
   "execution_count": null,
   "metadata": {},
   "outputs": [],
   "source": [
    "# we can infer that business is the highest travelled"
   ]
  },
  {
   "cell_type": "markdown",
   "metadata": {
    "id": "VgzSzOt9199t"
   },
   "source": [
    "## Q22. What percentage of Miles were clocked under Business Category and what percentage of Miles were clocked under Personal Category ?\n"
   ]
  },
  {
   "cell_type": "code",
   "execution_count": 97,
   "metadata": {
    "id": "K6ExiAiI199u"
   },
   "outputs": [
    {
     "data": {
      "text/plain": [
       "CATEGORY*\n",
       "Business    11487.0\n",
       "Personal      717.7\n",
       "Name: MILES*, dtype: float64"
      ]
     },
     "execution_count": 97,
     "metadata": {},
     "output_type": "execute_result"
    }
   ],
   "source": [
    "uber.groupby('CATEGORY*').sum()['MILES*'].sort_values(ascending = False)"
   ]
  },
  {
   "cell_type": "code",
   "execution_count": 110,
   "metadata": {},
   "outputs": [
    {
     "data": {
      "text/html": [
       "<div>\n",
       "<style scoped>\n",
       "    .dataframe tbody tr th:only-of-type {\n",
       "        vertical-align: middle;\n",
       "    }\n",
       "\n",
       "    .dataframe tbody tr th {\n",
       "        vertical-align: top;\n",
       "    }\n",
       "\n",
       "    .dataframe thead th {\n",
       "        text-align: right;\n",
       "    }\n",
       "</style>\n",
       "<table border=\"1\" class=\"dataframe\">\n",
       "  <thead>\n",
       "    <tr style=\"text-align: right;\">\n",
       "      <th></th>\n",
       "      <th>MILES*</th>\n",
       "    </tr>\n",
       "    <tr>\n",
       "      <th>CATEGORY*</th>\n",
       "      <th></th>\n",
       "    </tr>\n",
       "  </thead>\n",
       "  <tbody>\n",
       "    <tr>\n",
       "      <th>Business</th>\n",
       "      <td>94.119479</td>\n",
       "    </tr>\n",
       "    <tr>\n",
       "      <th>Personal</th>\n",
       "      <td>5.880521</td>\n",
       "    </tr>\n",
       "  </tbody>\n",
       "</table>\n",
       "</div>"
      ],
      "text/plain": [
       "              MILES*\n",
       "CATEGORY*           \n",
       "Business   94.119479\n",
       "Personal    5.880521"
      ]
     },
     "execution_count": 110,
     "metadata": {},
     "output_type": "execute_result"
    }
   ],
   "source": [
    "#What is percentage of business miles vs personal?\n",
    "uber_1 = uber.groupby('CATEGORY*').agg({'MILES*':'sum'})\n",
    "uber_1\n",
    "uber_1.apply(lambda x: x/x.sum()*100).rename(columns = {'MILES':'% of Miles'})"
   ]
  },
  {
   "cell_type": "markdown",
   "metadata": {
    "id": "_kYn6PGTUntA"
   },
   "source": [
    "***THE END***"
   ]
  }
 ],
 "metadata": {
  "colab": {
   "collapsed_sections": [
    "98yskoA9197_",
    "DZktgL3E198I",
    "ipD0ZQ9O198O",
    "R2F4GX15198S",
    "H6x0S6vs198W",
    "c2ATRpjm198a",
    "emZkbUV_198g",
    "UCvC2OPe198l",
    "617aSeL_198q",
    "8PmU-86n198v",
    "2vIFI9G61983",
    "Pqm4jhgT1986",
    "s3s-pY1R198_",
    "LuKFv1_P199D",
    "VmkTnPlt199H",
    "ZMsuzJcG199O",
    "S13-HiPG199T",
    "6Iqizk7B199W",
    "oBrYyZ-L199Z",
    "WBN9Ufxc199d",
    "b7-pD446199j",
    "CIZBaeSt199o",
    "VgzSzOt9199t"
   ],
   "name": "PDS_UberDriveProject_Questions.ipynb",
   "provenance": []
  },
  "kernelspec": {
   "display_name": "Python 3",
   "language": "python",
   "name": "python3"
  },
  "language_info": {
   "codemirror_mode": {
    "name": "ipython",
    "version": 3
   },
   "file_extension": ".py",
   "mimetype": "text/x-python",
   "name": "python",
   "nbconvert_exporter": "python",
   "pygments_lexer": "ipython3",
   "version": "3.8.5"
  },
  "toc": {
   "base_numbering": 1,
   "nav_menu": {},
   "number_sections": true,
   "sideBar": true,
   "skip_h1_title": false,
   "title_cell": "Table of Contents",
   "title_sidebar": "Contents",
   "toc_cell": false,
   "toc_position": {},
   "toc_section_display": true,
   "toc_window_display": false
  },
  "varInspector": {
   "cols": {
    "lenName": 16,
    "lenType": 16,
    "lenVar": 40
   },
   "kernels_config": {
    "python": {
     "delete_cmd_postfix": "",
     "delete_cmd_prefix": "del ",
     "library": "var_list.py",
     "varRefreshCmd": "print(var_dic_list())"
    },
    "r": {
     "delete_cmd_postfix": ") ",
     "delete_cmd_prefix": "rm(",
     "library": "var_list.r",
     "varRefreshCmd": "cat(var_dic_list()) "
    }
   },
   "types_to_exclude": [
    "module",
    "function",
    "builtin_function_or_method",
    "instance",
    "_Feature"
   ],
   "window_display": false
  }
 },
 "nbformat": 4,
 "nbformat_minor": 1
}
